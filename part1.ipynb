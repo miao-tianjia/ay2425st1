{
 "cells": [
  {
   "cell_type": "code",
   "execution_count": null,
   "metadata": {},
   "outputs": [
    {
     "name": "stdout",
     "output_type": "stream",
     "text": [
      "Controllability Gramian Wc(t=1):\n",
      "[[4.32332358e-07 9.09075726e-02]\n",
      " [9.09075726e-02 4.99999999e+04]]\n",
      "\n",
      "Eigenvalues of Wc(t=1):\n",
      "[2.67042196e-07 4.99999999e+04]\n"
     ]
    }
   ],
   "source": [
    "# part 1 (h)\n",
    "import numpy as np\n",
    "from scipy.linalg import expm\n",
    "from scipy.integrate import quad\n",
    "\n",
    "# Define matrices\n",
    "A = np.array([[-1, 0],\n",
    "              [0, -10]])\n",
    "B = np.array([[1e-3],\n",
    "              [1e3]])\n",
    "\n",
    "# Define integrand function\n",
    "def integrand(s):\n",
    "    exp_As = expm(A * s)\n",
    "    exp_ATs = expm(A.T * s)\n",
    "    return exp_As @ B @ B.T @ exp_ATs\n",
    "\n",
    "# Numerically integrate each element of the matrix\n",
    "def compute_gramian(A, B, t):\n",
    "    m = A.shape[0]\n",
    "    Wc = np.zeros((m, m))\n",
    "    for i in range(m):\n",
    "        for j in range(m):\n",
    "            func = lambda s: integrand(s)[i, j]\n",
    "            Wc[i, j], _ = quad(func, 0, t)\n",
    "    return Wc\n",
    "\n",
    "# Compute Wc(t) at t = 1\n",
    "t = 1.0\n",
    "Wc = compute_gramian(A, B, t)\n",
    "\n",
    "# Compute eigenvalues\n",
    "eigenvalues = np.linalg.eigvals(Wc)\n",
    "\n",
    "# Print results\n",
    "print(\"Controllability Gramian Wc(t=1):\")\n",
    "print(Wc)\n",
    "print(\"\\nEigenvalues of Wc(t=1):\")\n",
    "print(eigenvalues)\n"
   ]
  },
  {
   "cell_type": "code",
   "execution_count": null,
   "metadata": {},
   "outputs": [
    {
     "name": "stdout",
     "output_type": "stream",
     "text": [
      "new Gramian: \n",
      "[[0.43233236 0.09090757]\n",
      " [0.09090757 0.05      ]]\n",
      "\n",
      "eigenvalues: \n",
      "[0.45284682 0.02948554]\n"
     ]
    }
   ],
   "source": [
    "# part 1 (i)\n",
    "T = np.array([[1e3, 0],\n",
    "              [0, 1e-3]])\n",
    "Wc_transformed = T @ Wc @ T.T\n",
    "print(\"new Gramian: \")\n",
    "print(Wc_transformed)\n",
    "print(\"\\neigenvalues: \")\n",
    "eigenvalues_transformed = np.linalg.eigvals(Wc_transformed)\n",
    "print(eigenvalues_transformed)"
   ]
  }
 ],
 "metadata": {
  "kernelspec": {
   "display_name": "dsa5204_project",
   "language": "python",
   "name": "python3"
  },
  "language_info": {
   "codemirror_mode": {
    "name": "ipython",
    "version": 3
   },
   "file_extension": ".py",
   "mimetype": "text/x-python",
   "name": "python",
   "nbconvert_exporter": "python",
   "pygments_lexer": "ipython3",
   "version": "3.10.16"
  }
 },
 "nbformat": 4,
 "nbformat_minor": 2
}
